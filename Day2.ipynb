{
  "nbformat": 4,
  "nbformat_minor": 0,
  "metadata": {
    "colab": {
      "provenance": []
    },
    "kernelspec": {
      "name": "python3",
      "display_name": "Python 3"
    },
    "language_info": {
      "name": "python"
    }
  },
  "cells": [
    {
      "cell_type": "code",
      "execution_count": 1,
      "metadata": {
        "colab": {
          "base_uri": "https://localhost:8080/"
        },
        "id": "2Sdw_tbeO2h0",
        "outputId": "73c3c370-23dc-4883-ab9b-b82bf460dc8c"
      },
      "outputs": [
        {
          "name": "stdout",
          "output_type": "stream",
          "text": [
            "please enter your name....12\n"
          ]
        }
      ],
      "source": [
        "name = input (\"please enter your name....\")"
      ]
    },
    {
      "cell_type": "code",
      "source": [
        "name"
      ],
      "metadata": {
        "colab": {
          "base_uri": "https://localhost:8080/",
          "height": 36
        },
        "id": "n4tF63KVPAqE",
        "outputId": "71bcffe0-7271-4cc9-91e7-80ea0f3c633a"
      },
      "execution_count": 2,
      "outputs": [
        {
          "output_type": "execute_result",
          "data": {
            "text/plain": [
              "'12'"
            ],
            "application/vnd.google.colaboratory.intrinsic+json": {
              "type": "string"
            }
          },
          "metadata": {},
          "execution_count": 2
        }
      ]
    },
    {
      "cell_type": "code",
      "source": [
        "type(name)"
      ],
      "metadata": {
        "colab": {
          "base_uri": "https://localhost:8080/"
        },
        "id": "Tspi10A4PJAa",
        "outputId": "923c2951-db75-4d33-9f15-8e2fbee3eb7f"
      },
      "execution_count": 5,
      "outputs": [
        {
          "output_type": "execute_result",
          "data": {
            "text/plain": [
              "str"
            ]
          },
          "metadata": {},
          "execution_count": 5
        }
      ]
    },
    {
      "cell_type": "code",
      "source": [
        "num1 = input(\"enter first number:\")\n",
        "num2 = input(\"enter second number:\")\n",
        "\n",
        "sum = num1 + num2\n",
        "print(\"sum of two numbers:\",sum)"
      ],
      "metadata": {
        "colab": {
          "base_uri": "https://localhost:8080/"
        },
        "id": "-d9sQQe6PLej",
        "outputId": "3a5255aa-33c0-4d7b-c8f0-46d8f493a272"
      },
      "execution_count": 7,
      "outputs": [
        {
          "output_type": "stream",
          "name": "stdout",
          "text": [
            "enter first number:100025\n",
            "enter second number:1255454\n",
            "sum of two numbers: 1000251255454\n"
          ]
        }
      ]
    },
    {
      "cell_type": "code",
      "source": [
        "num = eval(input(\"enter the number:\"))"
      ],
      "metadata": {
        "colab": {
          "base_uri": "https://localhost:8080/"
        },
        "id": "s3Y30PVwPcZG",
        "outputId": "8353f7b7-7f71-45d4-8cd0-3ccf2f7df87d"
      },
      "execution_count": 12,
      "outputs": [
        {
          "name": "stdout",
          "output_type": "stream",
          "text": [
            "enter the number:[1,2,3]\n"
          ]
        }
      ]
    },
    {
      "cell_type": "code",
      "source": [
        "type(num)"
      ],
      "metadata": {
        "colab": {
          "base_uri": "https://localhost:8080/"
        },
        "id": "_Xqko6JdVYNX",
        "outputId": "47138c74-84e1-4e91-c635-d999e8c5c4e0"
      },
      "execution_count": 13,
      "outputs": [
        {
          "output_type": "execute_result",
          "data": {
            "text/plain": [
              "list"
            ]
          },
          "metadata": {},
          "execution_count": 13
        }
      ]
    },
    {
      "cell_type": "code",
      "source": [
        "num = int(input(\"enter a number:\"))\n",
        "\n",
        "if num == 7 :\n",
        "   print(\"hello welcome to python\")\n"
      ],
      "metadata": {
        "colab": {
          "base_uri": "https://localhost:8080/"
        },
        "id": "yMNNSVXJVf3S",
        "outputId": "dfa3c1bb-e584-4533-d155-5fb328df2878"
      },
      "execution_count": 17,
      "outputs": [
        {
          "output_type": "stream",
          "name": "stdout",
          "text": [
            "enter a number:7\n",
            "hello welcome to python\n"
          ]
        }
      ]
    },
    {
      "cell_type": "code",
      "source": [
        "num = int(input(\"enter a number:\"))\n",
        "\n",
        "if num == 7 :\n",
        "   print(\"hello welcome to python\")\n",
        "else:\n",
        "  print(\"please enter correct paswd... \")"
      ],
      "metadata": {
        "colab": {
          "base_uri": "https://localhost:8080/"
        },
        "id": "9zYH3QonX2HF",
        "outputId": "b1e622cf-8a37-430e-d0cd-db1304e22465"
      },
      "execution_count": 18,
      "outputs": [
        {
          "output_type": "stream",
          "name": "stdout",
          "text": [
            "enter a number:7\n",
            "hello welcome to python\n"
          ]
        }
      ]
    },
    {
      "cell_type": "code",
      "source": [
        "Marks = float(input(\"enter your marks:\"))\n",
        "\n",
        "if Marks >= 90:\n",
        "  print(\"your performance is outstanding and your grade is 0\")\n",
        "\n",
        "elif Marks >= 75:\n",
        "  print(\"Grade A\")\n",
        "\n",
        "elif Marks >= 60:\n",
        "  print(\"Grade B\")\n",
        "\n",
        "elif Marks >= 40:\n",
        "  print(\"Grade c\")\n",
        "else:\n",
        "  print(\"Need improvement\")"
      ],
      "metadata": {
        "colab": {
          "base_uri": "https://localhost:8080/"
        },
        "id": "YNTfDJcVZMAw",
        "outputId": "1113daf9-0bbc-4b6d-e1d7-be181cc58cb5"
      },
      "execution_count": 23,
      "outputs": [
        {
          "output_type": "stream",
          "name": "stdout",
          "text": [
            "enter your marks:76\n",
            "Grade A\n"
          ]
        }
      ]
    },
    {
      "cell_type": "code",
      "source": [
        "num = int(input(\"enter your marks:\"))\n",
        "if num>0:\n",
        "  if num%2 ==0:\n",
        "    print(\"number is positive and even\")\n",
        "  else:\n",
        "    print(\"number is positive and odd\")\n",
        "else:\n",
        "  print(\"number is negative\")"
      ],
      "metadata": {
        "colab": {
          "base_uri": "https://localhost:8080/"
        },
        "id": "Ep-Clm4yZ_kk",
        "outputId": "a04d55e3-7a15-4e24-aca8-b59464c788b3"
      },
      "execution_count": 24,
      "outputs": [
        {
          "output_type": "stream",
          "name": "stdout",
          "text": [
            "enter your marks:44\n",
            "number is positive and even\n"
          ]
        }
      ]
    },
    {
      "cell_type": "code",
      "source": [
        "num = int(input(\"enter your marks:\"))\n",
        "if num>0:\n",
        "  if num%2 ==0:\n",
        "    print(\"number is positive and even\")\n",
        "  else:\n",
        "    print(\"number is positive and odd\")\n",
        "elif num == 0:\n",
        "  print(\"number is zero\")\n",
        "else:\n",
        "  print(\"number is negative\")"
      ],
      "metadata": {
        "colab": {
          "base_uri": "https://localhost:8080/",
          "height": 228
        },
        "id": "qukDsENrdw6X",
        "outputId": "f8af925f-8971-4c7d-ac6b-f01181265db7"
      },
      "execution_count": 26,
      "outputs": [
        {
          "name": "stdout",
          "output_type": "stream",
          "text": [
            "enter your marks:10.900\n"
          ]
        },
        {
          "output_type": "error",
          "ename": "ValueError",
          "evalue": "invalid literal for int() with base 10: '10.900'",
          "traceback": [
            "\u001b[0;31m---------------------------------------------------------------------------\u001b[0m",
            "\u001b[0;31mValueError\u001b[0m                                Traceback (most recent call last)",
            "\u001b[0;32m<ipython-input-26-57e44454aa23>\u001b[0m in \u001b[0;36m<cell line: 1>\u001b[0;34m()\u001b[0m\n\u001b[0;32m----> 1\u001b[0;31m \u001b[0mnum\u001b[0m \u001b[0;34m=\u001b[0m \u001b[0mint\u001b[0m\u001b[0;34m(\u001b[0m\u001b[0minput\u001b[0m\u001b[0;34m(\u001b[0m\u001b[0;34m\"enter your marks:\"\u001b[0m\u001b[0;34m)\u001b[0m\u001b[0;34m)\u001b[0m\u001b[0;34m\u001b[0m\u001b[0;34m\u001b[0m\u001b[0m\n\u001b[0m\u001b[1;32m      2\u001b[0m \u001b[0;32mif\u001b[0m \u001b[0mnum\u001b[0m\u001b[0;34m>\u001b[0m\u001b[0;36m0\u001b[0m\u001b[0;34m:\u001b[0m\u001b[0;34m\u001b[0m\u001b[0;34m\u001b[0m\u001b[0m\n\u001b[1;32m      3\u001b[0m   \u001b[0;32mif\u001b[0m \u001b[0mnum\u001b[0m\u001b[0;34m%\u001b[0m\u001b[0;36m2\u001b[0m \u001b[0;34m==\u001b[0m\u001b[0;36m0\u001b[0m\u001b[0;34m:\u001b[0m\u001b[0;34m\u001b[0m\u001b[0;34m\u001b[0m\u001b[0m\n\u001b[1;32m      4\u001b[0m     \u001b[0mprint\u001b[0m\u001b[0;34m(\u001b[0m\u001b[0;34m\"number is positive and even\"\u001b[0m\u001b[0;34m)\u001b[0m\u001b[0;34m\u001b[0m\u001b[0;34m\u001b[0m\u001b[0m\n\u001b[1;32m      5\u001b[0m   \u001b[0;32melse\u001b[0m\u001b[0;34m:\u001b[0m\u001b[0;34m\u001b[0m\u001b[0;34m\u001b[0m\u001b[0m\n",
            "\u001b[0;31mValueError\u001b[0m: invalid literal for int() with base 10: '10.900'"
          ]
        }
      ]
    },
    {
      "cell_type": "code",
      "source": [
        "num = int(input(\"enter a number:\"))\n",
        "result = \"Number is even\" if num%2 == 0 else \"Number is odd\"\n",
        "print(result)"
      ],
      "metadata": {
        "colab": {
          "base_uri": "https://localhost:8080/"
        },
        "id": "GQPil9WoeEUq",
        "outputId": "0e2b100f-cb4c-48fe-8dad-04a40890df3b"
      },
      "execution_count": 27,
      "outputs": [
        {
          "output_type": "stream",
          "name": "stdout",
          "text": [
            "enter a number:11\n",
            "Number is odd\n"
          ]
        }
      ]
    },
    {
      "cell_type": "code",
      "source": [
        "num = int(input(\"enter a number:\"))\n",
        "if num%2 == 0:\n",
        "  print(\"Number is even\")\n",
        "else:\n",
        "  print(\"Number is odd\")"
      ],
      "metadata": {
        "colab": {
          "base_uri": "https://localhost:8080/"
        },
        "id": "GXvlUrkMevPO",
        "outputId": "1ebb2429-21af-4d0b-bbcd-0981bbc342ff"
      },
      "execution_count": 28,
      "outputs": [
        {
          "output_type": "stream",
          "name": "stdout",
          "text": [
            "enter a number:11\n",
            "Number is odd\n"
          ]
        }
      ]
    },
    {
      "cell_type": "code",
      "source": [],
      "metadata": {
        "id": "42pvJAUUfVSl"
      },
      "execution_count": 28,
      "outputs": []
    }
  ]
}